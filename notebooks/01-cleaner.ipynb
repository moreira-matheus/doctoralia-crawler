{
 "cells": [
  {
   "cell_type": "code",
   "execution_count": 1,
   "metadata": {},
   "outputs": [],
   "source": [
    "import xlwt\n",
    "import pandas as pd\n",
    "from datetime import date"
   ]
  },
  {
   "cell_type": "code",
   "execution_count": 2,
   "metadata": {},
   "outputs": [],
   "source": [
    "pd.set_option('display.max_colwidth', -1)"
   ]
  },
  {
   "cell_type": "code",
   "execution_count": 3,
   "metadata": {},
   "outputs": [],
   "source": [
    "raw_file = '../data/doctoralia_raw.csv'\n",
    "output_file = '../data/doctoralia_tidy.csv'\n",
    "xls_file = '../data/' + date.today().strftime('%Y%m%d') + '_Dados_Doctoralia.xls'\n",
    "sheet_name = 'Planilha'"
   ]
  },
  {
   "cell_type": "code",
   "execution_count": 4,
   "metadata": {},
   "outputs": [],
   "source": [
    "id_col = 'nome'\n",
    "list_cols = ['endereco', 'telefone', 'especialidade']\n",
    "max_exploded_cols = 3\n",
    "nan_threshold = 0.90"
   ]
  },
  {
   "cell_type": "markdown",
   "metadata": {},
   "source": [
    "***"
   ]
  },
  {
   "cell_type": "code",
   "execution_count": 5,
   "metadata": {},
   "outputs": [],
   "source": [
    "data = pd.read_csv(raw_file, sep=';')"
   ]
  },
  {
   "cell_type": "code",
   "execution_count": 6,
   "metadata": {},
   "outputs": [
    {
     "data": {
      "text/html": [
       "<div>\n",
       "<style scoped>\n",
       "    .dataframe tbody tr th:only-of-type {\n",
       "        vertical-align: middle;\n",
       "    }\n",
       "\n",
       "    .dataframe tbody tr th {\n",
       "        vertical-align: top;\n",
       "    }\n",
       "\n",
       "    .dataframe thead th {\n",
       "        text-align: right;\n",
       "    }\n",
       "</style>\n",
       "<table border=\"1\" class=\"dataframe\">\n",
       "  <thead>\n",
       "    <tr style=\"text-align: right;\">\n",
       "      <th></th>\n",
       "      <th>nome</th>\n",
       "      <th>endereco</th>\n",
       "      <th>telefone</th>\n",
       "      <th>especialidade</th>\n",
       "      <th>nota</th>\n",
       "      <th>registro</th>\n",
       "    </tr>\n",
       "  </thead>\n",
       "  <tbody>\n",
       "    <tr>\n",
       "      <th>0</th>\n",
       "      <td>Marisabel Boere de Moraes Reis</td>\n",
       "      <td>R. Dr. Osvaldo Ribeiro 198 sala303 Empresarial Mar à Vista Ondina Salvador</td>\n",
       "      <td>(71) 4102-1149</td>\n",
       "      <td>Ginecologista</td>\n",
       "      <td>5.0</td>\n",
       "      <td>Número de registro:Crm 1654-6</td>\n",
       "    </tr>\n",
       "    <tr>\n",
       "      <th>1</th>\n",
       "      <td>Sofia Andrade</td>\n",
       "      <td>Avenida Miguel Calmon 40 (Edf. Conde dos Arcos sala 102-103) Comercio Salvador,Av. Adhemar de Barros 67 Ondina Salvador</td>\n",
       "      <td>(71) 3245-4009,(71) 3012-3010,(71) 3247-4009</td>\n",
       "      <td>Ginecologista</td>\n",
       "      <td>5.0</td>\n",
       "      <td>Número de registro:23512 BA</td>\n",
       "    </tr>\n",
       "    <tr>\n",
       "      <th>2</th>\n",
       "      <td>Anabel Silva Platon Bezerra</td>\n",
       "      <td>Rua da Graça 374 Graça Salvador</td>\n",
       "      <td>(71) 3336-2850</td>\n",
       "      <td>Ginecologista</td>\n",
       "      <td>5.0</td>\n",
       "      <td>Número de registro:CRM 8224 BARQE Nº: 3626</td>\n",
       "    </tr>\n",
       "    <tr>\n",
       "      <th>3</th>\n",
       "      <td>Cristina Fernandes Noronha</td>\n",
       "      <td>Av. Juracy Magalhães Junior 2096 (Sala 209) Rio Vermelho Salvador</td>\n",
       "      <td>(71) 3355-0786,(71) 2108-4684</td>\n",
       "      <td>Ginecologista</td>\n",
       "      <td>5.0</td>\n",
       "      <td>Número de registro:CRM 11896 BA - RQE 7062</td>\n",
       "    </tr>\n",
       "    <tr>\n",
       "      <th>4</th>\n",
       "      <td>Pedro Paulo Bastos Filho</td>\n",
       "      <td>Av. Jequitaia 40 (Edf. Conde dos Arcos sala 102-103) Mares Salvador,Avenida Anita Garibaldi 1555 sala-805  federação Engenho Velho Da Federacao Salvador</td>\n",
       "      <td>(71) 98233-2613,(71) 3012-3010,(71) 3247-5522</td>\n",
       "      <td>Ginecologista</td>\n",
       "      <td>5.0</td>\n",
       "      <td>Número de registro:CRM 7781-BA</td>\n",
       "    </tr>\n",
       "  </tbody>\n",
       "</table>\n",
       "</div>"
      ],
      "text/plain": [
       "                             nome  \\\n",
       "0  Marisabel Boere de Moraes Reis   \n",
       "1  Sofia Andrade                    \n",
       "2  Anabel Silva Platon Bezerra      \n",
       "3  Cristina Fernandes Noronha       \n",
       "4  Pedro Paulo Bastos Filho         \n",
       "\n",
       "                                                                                                                                                   endereco  \\\n",
       "0  R. Dr. Osvaldo Ribeiro 198 sala303 Empresarial Mar à Vista Ondina Salvador                                                                                 \n",
       "1  Avenida Miguel Calmon 40 (Edf. Conde dos Arcos sala 102-103) Comercio Salvador,Av. Adhemar de Barros 67 Ondina Salvador                                    \n",
       "2  Rua da Graça 374 Graça Salvador                                                                                                                            \n",
       "3  Av. Juracy Magalhães Junior 2096 (Sala 209) Rio Vermelho Salvador                                                                                          \n",
       "4  Av. Jequitaia 40 (Edf. Conde dos Arcos sala 102-103) Mares Salvador,Avenida Anita Garibaldi 1555 sala-805  federação Engenho Velho Da Federacao Salvador   \n",
       "\n",
       "                                        telefone  especialidade  nota  \\\n",
       "0  (71) 4102-1149                                 Ginecologista  5.0    \n",
       "1  (71) 3245-4009,(71) 3012-3010,(71) 3247-4009   Ginecologista  5.0    \n",
       "2  (71) 3336-2850                                 Ginecologista  5.0    \n",
       "3  (71) 3355-0786,(71) 2108-4684                  Ginecologista  5.0    \n",
       "4  (71) 98233-2613,(71) 3012-3010,(71) 3247-5522  Ginecologista  5.0    \n",
       "\n",
       "                                     registro  \n",
       "0  Número de registro:Crm 1654-6               \n",
       "1  Número de registro:23512 BA                 \n",
       "2  Número de registro:CRM 8224 BARQE Nº: 3626  \n",
       "3  Número de registro:CRM 11896 BA - RQE 7062  \n",
       "4  Número de registro:CRM 7781-BA              "
      ]
     },
     "execution_count": 6,
     "metadata": {},
     "output_type": "execute_result"
    }
   ],
   "source": [
    "data.head()"
   ]
  },
  {
   "cell_type": "code",
   "execution_count": 7,
   "metadata": {},
   "outputs": [
    {
     "data": {
      "text/plain": [
       "(26231, 6)"
      ]
     },
     "execution_count": 7,
     "metadata": {},
     "output_type": "execute_result"
    }
   ],
   "source": [
    "data.shape"
   ]
  },
  {
   "cell_type": "markdown",
   "metadata": {},
   "source": [
    "Dropping duplicates:"
   ]
  },
  {
   "cell_type": "code",
   "execution_count": 8,
   "metadata": {},
   "outputs": [],
   "source": [
    "data = data.drop_duplicates()"
   ]
  },
  {
   "cell_type": "markdown",
   "metadata": {},
   "source": [
    "Exploding list columns:"
   ]
  },
  {
   "cell_type": "code",
   "execution_count": 9,
   "metadata": {},
   "outputs": [],
   "source": [
    "for col in list_cols:\n",
    "    exploded_raw = data[col].str.split(',', expand=True)\n",
    "    exploded_cols = [col + '_' + str(ind+1) for ind, _ in zip(range(max_exploded_cols), exploded_raw.columns)]\n",
    "    \n",
    "    data[exploded_cols] = exploded_raw.iloc[:, :len(exploded_cols)]\n",
    "    data.drop(columns=col, inplace=True)\n",
    "    if data[exploded_cols[-1]].isna().sum() > nan_threshold:\n",
    "        data.drop(columns=exploded_cols[-1], inplace=True)"
   ]
  },
  {
   "cell_type": "code",
   "execution_count": 10,
   "metadata": {},
   "outputs": [
    {
     "data": {
      "text/html": [
       "<div>\n",
       "<style scoped>\n",
       "    .dataframe tbody tr th:only-of-type {\n",
       "        vertical-align: middle;\n",
       "    }\n",
       "\n",
       "    .dataframe tbody tr th {\n",
       "        vertical-align: top;\n",
       "    }\n",
       "\n",
       "    .dataframe thead th {\n",
       "        text-align: right;\n",
       "    }\n",
       "</style>\n",
       "<table border=\"1\" class=\"dataframe\">\n",
       "  <thead>\n",
       "    <tr style=\"text-align: right;\">\n",
       "      <th></th>\n",
       "      <th>nome</th>\n",
       "      <th>nota</th>\n",
       "      <th>registro</th>\n",
       "      <th>endereco_1</th>\n",
       "      <th>endereco_2</th>\n",
       "      <th>telefone_1</th>\n",
       "      <th>telefone_2</th>\n",
       "      <th>especialidade_1</th>\n",
       "      <th>especialidade_2</th>\n",
       "    </tr>\n",
       "  </thead>\n",
       "  <tbody>\n",
       "    <tr>\n",
       "      <th>0</th>\n",
       "      <td>Marisabel Boere de Moraes Reis</td>\n",
       "      <td>5.0</td>\n",
       "      <td>Número de registro:Crm 1654-6</td>\n",
       "      <td>R. Dr. Osvaldo Ribeiro 198 sala303 Empresarial Mar à Vista Ondina Salvador</td>\n",
       "      <td>None</td>\n",
       "      <td>(71) 4102-1149</td>\n",
       "      <td>None</td>\n",
       "      <td>Ginecologista</td>\n",
       "      <td>None</td>\n",
       "    </tr>\n",
       "    <tr>\n",
       "      <th>1</th>\n",
       "      <td>Sofia Andrade</td>\n",
       "      <td>5.0</td>\n",
       "      <td>Número de registro:23512 BA</td>\n",
       "      <td>Avenida Miguel Calmon 40 (Edf. Conde dos Arcos sala 102-103) Comercio Salvador</td>\n",
       "      <td>Av. Adhemar de Barros 67 Ondina Salvador</td>\n",
       "      <td>(71) 3245-4009</td>\n",
       "      <td>(71) 3012-3010</td>\n",
       "      <td>Ginecologista</td>\n",
       "      <td>None</td>\n",
       "    </tr>\n",
       "    <tr>\n",
       "      <th>2</th>\n",
       "      <td>Anabel Silva Platon Bezerra</td>\n",
       "      <td>5.0</td>\n",
       "      <td>Número de registro:CRM 8224 BARQE Nº: 3626</td>\n",
       "      <td>Rua da Graça 374 Graça Salvador</td>\n",
       "      <td>None</td>\n",
       "      <td>(71) 3336-2850</td>\n",
       "      <td>None</td>\n",
       "      <td>Ginecologista</td>\n",
       "      <td>None</td>\n",
       "    </tr>\n",
       "  </tbody>\n",
       "</table>\n",
       "</div>"
      ],
      "text/plain": [
       "                             nome  nota  \\\n",
       "0  Marisabel Boere de Moraes Reis  5.0    \n",
       "1  Sofia Andrade                   5.0    \n",
       "2  Anabel Silva Platon Bezerra     5.0    \n",
       "\n",
       "                                     registro  \\\n",
       "0  Número de registro:Crm 1654-6                \n",
       "1  Número de registro:23512 BA                  \n",
       "2  Número de registro:CRM 8224 BARQE Nº: 3626   \n",
       "\n",
       "                                                                       endereco_1  \\\n",
       "0  R. Dr. Osvaldo Ribeiro 198 sala303 Empresarial Mar à Vista Ondina Salvador       \n",
       "1  Avenida Miguel Calmon 40 (Edf. Conde dos Arcos sala 102-103) Comercio Salvador   \n",
       "2  Rua da Graça 374 Graça Salvador                                                  \n",
       "\n",
       "                                 endereco_2      telefone_1      telefone_2  \\\n",
       "0  None                                      (71) 4102-1149  None             \n",
       "1  Av. Adhemar de Barros 67 Ondina Salvador  (71) 3245-4009  (71) 3012-3010   \n",
       "2  None                                      (71) 3336-2850  None             \n",
       "\n",
       "  especialidade_1 especialidade_2  \n",
       "0  Ginecologista   None            \n",
       "1  Ginecologista   None            \n",
       "2  Ginecologista   None            "
      ]
     },
     "execution_count": 10,
     "metadata": {},
     "output_type": "execute_result"
    }
   ],
   "source": [
    "data.head(3)"
   ]
  },
  {
   "cell_type": "markdown",
   "metadata": {},
   "source": [
    "Removing unwanted observations:"
   ]
  },
  {
   "cell_type": "code",
   "execution_count": 11,
   "metadata": {},
   "outputs": [],
   "source": [
    "# Doctors without main telephone number\n",
    "data = data[data.telefone_1.notna()]"
   ]
  },
  {
   "cell_type": "code",
   "execution_count": 12,
   "metadata": {},
   "outputs": [],
   "source": [
    "# Doctors whose main phone numbers are from other states (MG, PE, RJ etc)\n",
    "data = data[~data.telefone_1.str.contains(pat=r'^\\([^7]\\d\\).*', na=False)].reset_index(drop=True)"
   ]
  },
  {
   "cell_type": "code",
   "execution_count": 13,
   "metadata": {},
   "outputs": [],
   "source": [
    "# Doctors outside Bahia\n",
    "data = data[~data.registro.str.contains(r'.*MG.*', na=False) | \\\n",
    "            data.registro.str.contains(r'.*BA.*', na=False) | \\\n",
    "            ~data.telefone_1.str.contains(pat=r'^\\([^7]\\d\\).*', na=True)].reset_index(drop=True)"
   ]
  },
  {
   "cell_type": "markdown",
   "metadata": {},
   "source": [
    "Tidying columns:"
   ]
  },
  {
   "cell_type": "code",
   "execution_count": 14,
   "metadata": {},
   "outputs": [],
   "source": [
    "ordered_cols = [col for col in data.columns if col.startswith('especialidade')] + \\\n",
    "               ['nome', 'registro'] + \\\n",
    "               [col for col in data.columns if col.startswith('telefone')] + \\\n",
    "               [col for col in data.columns if col.startswith('endereco')] + \\\n",
    "               ['nota']\n",
    "\n",
    "formatted_cols = [col.title().replace('_', ' ') for col in ordered_cols]"
   ]
  },
  {
   "cell_type": "markdown",
   "metadata": {},
   "source": [
    "Reordering columns and sorting rows:"
   ]
  },
  {
   "cell_type": "code",
   "execution_count": 15,
   "metadata": {},
   "outputs": [],
   "source": [
    "especialidades = [col for col in data.columns if col.startswith('especialidade')]\n",
    "\n",
    "data = data[ordered_cols].sort_values(by=especialidades).reset_index(drop=True)"
   ]
  },
  {
   "cell_type": "code",
   "execution_count": 16,
   "metadata": {},
   "outputs": [
    {
     "data": {
      "text/html": [
       "<div>\n",
       "<style scoped>\n",
       "    .dataframe tbody tr th:only-of-type {\n",
       "        vertical-align: middle;\n",
       "    }\n",
       "\n",
       "    .dataframe tbody tr th {\n",
       "        vertical-align: top;\n",
       "    }\n",
       "\n",
       "    .dataframe thead th {\n",
       "        text-align: right;\n",
       "    }\n",
       "</style>\n",
       "<table border=\"1\" class=\"dataframe\">\n",
       "  <thead>\n",
       "    <tr style=\"text-align: right;\">\n",
       "      <th></th>\n",
       "      <th>especialidade_1</th>\n",
       "      <th>especialidade_2</th>\n",
       "      <th>nome</th>\n",
       "      <th>registro</th>\n",
       "      <th>telefone_1</th>\n",
       "      <th>telefone_2</th>\n",
       "      <th>endereco_1</th>\n",
       "      <th>endereco_2</th>\n",
       "      <th>nota</th>\n",
       "    </tr>\n",
       "  </thead>\n",
       "  <tbody>\n",
       "    <tr>\n",
       "      <th>0</th>\n",
       "      <td>Alergista</td>\n",
       "      <td>Anestesiologista</td>\n",
       "      <td>Moises Candido Neri Barreto</td>\n",
       "      <td>Número de registro:CRM 5874 SECRM 10846 BA - RQE 3857</td>\n",
       "      <td>(75) 3421-3529</td>\n",
       "      <td>None</td>\n",
       "      <td>Alergia e Imunologia Anestesiologia Alagoinhas</td>\n",
       "      <td>None</td>\n",
       "      <td>NaN</td>\n",
       "    </tr>\n",
       "    <tr>\n",
       "      <th>1</th>\n",
       "      <td>Alergista</td>\n",
       "      <td>Cardiologista</td>\n",
       "      <td>Zuleide Oliveira Nicacio</td>\n",
       "      <td>Número de registro:CRM 18619 PE</td>\n",
       "      <td>(75) 3281-3777</td>\n",
       "      <td>None</td>\n",
       "      <td>Manoel Novaes 00 - S/N Paulo Afonso</td>\n",
       "      <td>None</td>\n",
       "      <td>NaN</td>\n",
       "    </tr>\n",
       "    <tr>\n",
       "      <th>2</th>\n",
       "      <td>Alergista</td>\n",
       "      <td>Dermatologista</td>\n",
       "      <td>Luciano José F Guimarães</td>\n",
       "      <td>NaN</td>\n",
       "      <td>(71) 3322-2836</td>\n",
       "      <td>None</td>\n",
       "      <td>Av Sete de Setembro 57 (Ed. Fernandez 1º Andar S/104105) Centro Salvador</td>\n",
       "      <td>None</td>\n",
       "      <td>5.0</td>\n",
       "    </tr>\n",
       "  </tbody>\n",
       "</table>\n",
       "</div>"
      ],
      "text/plain": [
       "  especialidade_1   especialidade_2                         nome  \\\n",
       "0  Alergista       Anestesiologista  Moises Candido Neri Barreto   \n",
       "1  Alergista       Cardiologista     Zuleide Oliveira Nicacio      \n",
       "2  Alergista       Dermatologista    Luciano José F Guimarães      \n",
       "\n",
       "                                                registro      telefone_1  \\\n",
       "0  Número de registro:CRM 5874 SECRM 10846 BA - RQE 3857  (75) 3421-3529   \n",
       "1  Número de registro:CRM 18619 PE                        (75) 3281-3777   \n",
       "2  NaN                                                    (71) 3322-2836   \n",
       "\n",
       "  telefone_2  \\\n",
       "0  None        \n",
       "1  None        \n",
       "2  None        \n",
       "\n",
       "                                                                 endereco_1  \\\n",
       "0  Alergia e Imunologia Anestesiologia Alagoinhas                             \n",
       "1  Manoel Novaes 00 - S/N Paulo Afonso                                        \n",
       "2  Av Sete de Setembro 57 (Ed. Fernandez 1º Andar S/104105) Centro Salvador   \n",
       "\n",
       "  endereco_2  nota  \n",
       "0  None      NaN    \n",
       "1  None      NaN    \n",
       "2  None       5.0   "
      ]
     },
     "execution_count": 16,
     "metadata": {},
     "output_type": "execute_result"
    }
   ],
   "source": [
    "data.head(3)"
   ]
  },
  {
   "cell_type": "code",
   "execution_count": 17,
   "metadata": {},
   "outputs": [
    {
     "data": {
      "text/plain": [
       "(16322, 9)"
      ]
     },
     "execution_count": 17,
     "metadata": {},
     "output_type": "execute_result"
    }
   ],
   "source": [
    "data.shape"
   ]
  },
  {
   "cell_type": "markdown",
   "metadata": {},
   "source": [
    "Saving clean data to a .csv file:"
   ]
  },
  {
   "cell_type": "code",
   "execution_count": 18,
   "metadata": {},
   "outputs": [],
   "source": [
    "data.to_csv(output_file, sep=';', index=False)"
   ]
  },
  {
   "cell_type": "markdown",
   "metadata": {},
   "source": [
    "Formatting columns' names and exporting to a.xls file:"
   ]
  },
  {
   "cell_type": "code",
   "execution_count": 22,
   "metadata": {},
   "outputs": [],
   "source": [
    "title = 'Profissionais de Saúde - BA'\n",
    "\n",
    "link = 'https://www.doctoralia.com.br/'\n",
    "subtitle = xlwt.Formula('concatenate(\"Fonte: \", HYPERLINK(\"{}\"))'.format(link))\n",
    "\n",
    "rows = {'title': 0, 'subtitle': 1, 'blank': 2, 'header': 3}"
   ]
  },
  {
   "cell_type": "code",
   "execution_count": 23,
   "metadata": {},
   "outputs": [],
   "source": [
    "def format_sheet(worksheet, num_cols):\n",
    "\n",
    "    # NOTE: height = font_size * 20\n",
    "    style_title = 'font: name Arial, bold on, height 320; align: horiz left'\n",
    "    style_subtitle = 'font: name Arial, bold on, height 200; align: horiz left'\n",
    "    \n",
    "    # NOTE: width = num_chars * 256\n",
    "    max_width = max([len(col) for col in formatted_cols]) * 256\n",
    "    for i in range(num_cols):\n",
    "        worksheet.col(i).width = max_width\n",
    "\n",
    "    worksheet.write(r=rows['title'], c=0, label=title, style=xlwt.easyxf(style_title))\n",
    "    worksheet.row(rows['title']).height = 360\n",
    "    \n",
    "    worksheet.write(r=rows['subtitle'], c=0, label=subtitle, style=xlwt.easyxf(style_subtitle))\n",
    "    worksheet.row(rows['subtitle']).height = 340\n",
    "\n",
    "    worksheet.merge(r1=rows['title'], c1=0, r2=rows['title'], c2=num_cols-1)    \n",
    "    worksheet.merge(r1=rows['subtitle'], c1=0, r2=rows['subtitle'], c2=num_cols-1)\n",
    "    worksheet.merge(r1=rows['blank'], c1=0, r2=rows['blank'], c2=num_cols-1)\n"
   ]
  },
  {
   "cell_type": "code",
   "execution_count": 24,
   "metadata": {},
   "outputs": [],
   "source": [
    "data.rename(columns=dict(zip(ordered_cols, formatted_cols)), inplace=True)\n",
    "\n",
    "with pd.ExcelWriter(xls_file, engine='xlwt', mode='w') as writer:\n",
    "    data.to_excel(writer, sheet_name=sheet_name, startrow=rows['header'], encoding='utf-8', index=False)\n",
    "    \n",
    "    worksheet = writer.sheets[sheet_name]\n",
    "    format_sheet(worksheet, len(data.columns))"
   ]
  }
 ],
 "metadata": {
  "kernelspec": {
   "display_name": "Python 3",
   "language": "python",
   "name": "python3"
  },
  "language_info": {
   "codemirror_mode": {
    "name": "ipython",
    "version": 3
   },
   "file_extension": ".py",
   "mimetype": "text/x-python",
   "name": "python",
   "nbconvert_exporter": "python",
   "pygments_lexer": "ipython3",
   "version": "3.7.3"
  }
 },
 "nbformat": 4,
 "nbformat_minor": 2
}
